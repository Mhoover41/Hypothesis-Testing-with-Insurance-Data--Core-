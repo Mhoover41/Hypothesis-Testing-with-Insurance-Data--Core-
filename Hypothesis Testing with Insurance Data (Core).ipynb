{
 "cells": [
  {
   "cell_type": "markdown",
   "id": "6f44b583",
   "metadata": {},
   "source": [
    "# The Assignment "
   ]
  },
  {
   "cell_type": "markdown",
   "id": "5f433576",
   "metadata": {},
   "source": [
    "For this assignment, we will be working with the US Health Insurance Dataset from Kaggle.\n",
    "\n",
    "We have been asked to use our hypothesis testing skills to answer the following questions:\n",
    "\n",
    "- 1. Do smokers have higher insurance charges than non-smokers?\n",
    "- 2. Are men more likely to smoke than women?\n",
    "- 3. Do different regions have different charges, on average?\n",
    "\n",
    "\n",
    "\n",
    "For each question, make sure to:\n",
    "\n",
    "1. State your Null Hypothesis and Alternative Hypothesis\n",
    "2. Select the correct test according to the data type and number of samples\n",
    "3. Test the assumptions of your selected test.\n",
    "4. Execute the selected test, or the alternative test (if you do not meet the assumptions)\n",
    "5. Interpret your p-value and reject or fail to reject your null hypothesis \n",
    "6. Show a supporting visualization that helps display the result\n"
   ]
  },
  {
   "cell_type": "markdown",
   "id": "1d41a373",
   "metadata": {},
   "source": [
    "## Imports"
   ]
  },
  {
   "cell_type": "code",
   "execution_count": 1,
   "id": "1972bdf4",
   "metadata": {},
   "outputs": [],
   "source": [
    "import json\n",
    "import pandas as pd\n",
    "import numpy as np\n",
    "import seaborn as sns\n",
    "from scipy import stats\n",
    "from scipy.stats import chi2_contingency"
   ]
  },
  {
   "cell_type": "markdown",
   "id": "6eaba32f",
   "metadata": {},
   "source": [
    "## Load Data"
   ]
  },
  {
   "cell_type": "code",
   "execution_count": 2,
   "id": "775c806d",
   "metadata": {},
   "outputs": [
    {
     "data": {
      "text/html": [
       "<div>\n",
       "<style scoped>\n",
       "    .dataframe tbody tr th:only-of-type {\n",
       "        vertical-align: middle;\n",
       "    }\n",
       "\n",
       "    .dataframe tbody tr th {\n",
       "        vertical-align: top;\n",
       "    }\n",
       "\n",
       "    .dataframe thead th {\n",
       "        text-align: right;\n",
       "    }\n",
       "</style>\n",
       "<table border=\"1\" class=\"dataframe\">\n",
       "  <thead>\n",
       "    <tr style=\"text-align: right;\">\n",
       "      <th></th>\n",
       "      <th>age</th>\n",
       "      <th>sex</th>\n",
       "      <th>bmi</th>\n",
       "      <th>children</th>\n",
       "      <th>smoker</th>\n",
       "      <th>region</th>\n",
       "      <th>charges</th>\n",
       "    </tr>\n",
       "  </thead>\n",
       "  <tbody>\n",
       "    <tr>\n",
       "      <th>0</th>\n",
       "      <td>19</td>\n",
       "      <td>female</td>\n",
       "      <td>27.900</td>\n",
       "      <td>0</td>\n",
       "      <td>yes</td>\n",
       "      <td>southwest</td>\n",
       "      <td>16884.92400</td>\n",
       "    </tr>\n",
       "    <tr>\n",
       "      <th>1</th>\n",
       "      <td>18</td>\n",
       "      <td>male</td>\n",
       "      <td>33.770</td>\n",
       "      <td>1</td>\n",
       "      <td>no</td>\n",
       "      <td>southeast</td>\n",
       "      <td>1725.55230</td>\n",
       "    </tr>\n",
       "    <tr>\n",
       "      <th>2</th>\n",
       "      <td>28</td>\n",
       "      <td>male</td>\n",
       "      <td>33.000</td>\n",
       "      <td>3</td>\n",
       "      <td>no</td>\n",
       "      <td>southeast</td>\n",
       "      <td>4449.46200</td>\n",
       "    </tr>\n",
       "    <tr>\n",
       "      <th>3</th>\n",
       "      <td>33</td>\n",
       "      <td>male</td>\n",
       "      <td>22.705</td>\n",
       "      <td>0</td>\n",
       "      <td>no</td>\n",
       "      <td>northwest</td>\n",
       "      <td>21984.47061</td>\n",
       "    </tr>\n",
       "    <tr>\n",
       "      <th>4</th>\n",
       "      <td>32</td>\n",
       "      <td>male</td>\n",
       "      <td>28.880</td>\n",
       "      <td>0</td>\n",
       "      <td>no</td>\n",
       "      <td>northwest</td>\n",
       "      <td>3866.85520</td>\n",
       "    </tr>\n",
       "  </tbody>\n",
       "</table>\n",
       "</div>"
      ],
      "text/plain": [
       "   age     sex     bmi  children smoker     region      charges\n",
       "0   19  female  27.900         0    yes  southwest  16884.92400\n",
       "1   18    male  33.770         1     no  southeast   1725.55230\n",
       "2   28    male  33.000         3     no  southeast   4449.46200\n",
       "3   33    male  22.705         0     no  northwest  21984.47061\n",
       "4   32    male  28.880         0     no  northwest   3866.85520"
      ]
     },
     "execution_count": 2,
     "metadata": {},
     "output_type": "execute_result"
    }
   ],
   "source": [
    "df = pd.read_csv(\"Data/insurance.csv\")\n",
    "df.head()"
   ]
  },
  {
   "cell_type": "code",
   "execution_count": 3,
   "id": "f6175d31",
   "metadata": {},
   "outputs": [
    {
     "name": "stdout",
     "output_type": "stream",
     "text": [
      "<class 'pandas.core.frame.DataFrame'>\n",
      "RangeIndex: 1338 entries, 0 to 1337\n",
      "Data columns (total 7 columns):\n",
      " #   Column    Non-Null Count  Dtype  \n",
      "---  ------    --------------  -----  \n",
      " 0   age       1338 non-null   int64  \n",
      " 1   sex       1338 non-null   object \n",
      " 2   bmi       1338 non-null   float64\n",
      " 3   children  1338 non-null   int64  \n",
      " 4   smoker    1338 non-null   object \n",
      " 5   region    1338 non-null   object \n",
      " 6   charges   1338 non-null   float64\n",
      "dtypes: float64(2), int64(2), object(3)\n",
      "memory usage: 73.3+ KB\n"
     ]
    }
   ],
   "source": [
    "df.info()"
   ]
  },
  {
   "cell_type": "markdown",
   "id": "1516ea4e",
   "metadata": {},
   "source": [
    "### 1.  Do smokers have higher insurance charges than non-smokers?"
   ]
  },
  {
   "cell_type": "markdown",
   "id": "28486d99",
   "metadata": {},
   "source": [
    "#### Define Null and Alternative Hypotheses"
   ]
  },
  {
   "cell_type": "markdown",
   "id": "48a306c6",
   "metadata": {},
   "source": [
    "**Null Hypothesis:**  There is no significant difference between smokers insurance charges and non-smokers.  \n",
    "\n",
    "**Alternative Hypothesis:**  Smokers have significantly higher insurance charges than non-smokers."
   ]
  },
  {
   "cell_type": "markdown",
   "id": "b5bc7b07",
   "metadata": {},
   "source": [
    "#### Select Proper Hypothesis Test"
   ]
  },
  {
   "cell_type": "markdown",
   "id": "cf7301d0",
   "metadata": {},
   "source": [
    "- We are comparing charges (numerical) between two different groups of people (smokers \n",
    "  vs. non smokers)\n",
    "- The appropriate test to perform would be:\n",
    "    - Independent t-test (2-sample) have the following Assumptions:\n",
    "        - No significant outliers\n",
    "        - Normality\n",
    "        - Equal Variance"
   ]
  },
  {
   "cell_type": "markdown",
   "id": "187d0c80",
   "metadata": {},
   "source": [
    "#### Getting the Group Data"
   ]
  },
  {
   "cell_type": "code",
   "execution_count": 4,
   "id": "059dc52c",
   "metadata": {},
   "outputs": [
    {
     "data": {
      "text/plain": [
       "<bound method Series.unique of 0       yes\n",
       "1        no\n",
       "2        no\n",
       "3        no\n",
       "4        no\n",
       "       ... \n",
       "1333     no\n",
       "1334     no\n",
       "1335     no\n",
       "1336     no\n",
       "1337    yes\n",
       "Name: smoker, Length: 1338, dtype: object>"
      ]
     },
     "execution_count": 4,
     "metadata": {},
     "output_type": "execute_result"
    }
   ],
   "source": [
    "df['smoker'].unique"
   ]
  },
  {
   "cell_type": "code",
   "execution_count": 5,
   "id": "6908dbe4",
   "metadata": {},
   "outputs": [
    {
     "data": {
      "text/html": [
       "<div>\n",
       "<style scoped>\n",
       "    .dataframe tbody tr th:only-of-type {\n",
       "        vertical-align: middle;\n",
       "    }\n",
       "\n",
       "    .dataframe tbody tr th {\n",
       "        vertical-align: top;\n",
       "    }\n",
       "\n",
       "    .dataframe thead th {\n",
       "        text-align: right;\n",
       "    }\n",
       "</style>\n",
       "<table border=\"1\" class=\"dataframe\">\n",
       "  <thead>\n",
       "    <tr style=\"text-align: right;\">\n",
       "      <th></th>\n",
       "      <th>charges</th>\n",
       "      <th>smoker</th>\n",
       "    </tr>\n",
       "  </thead>\n",
       "  <tbody>\n",
       "    <tr>\n",
       "      <th>0</th>\n",
       "      <td>16884.92400</td>\n",
       "      <td>yes</td>\n",
       "    </tr>\n",
       "    <tr>\n",
       "      <th>11</th>\n",
       "      <td>27808.72510</td>\n",
       "      <td>yes</td>\n",
       "    </tr>\n",
       "    <tr>\n",
       "      <th>14</th>\n",
       "      <td>39611.75770</td>\n",
       "      <td>yes</td>\n",
       "    </tr>\n",
       "    <tr>\n",
       "      <th>19</th>\n",
       "      <td>36837.46700</td>\n",
       "      <td>yes</td>\n",
       "    </tr>\n",
       "    <tr>\n",
       "      <th>23</th>\n",
       "      <td>37701.87680</td>\n",
       "      <td>yes</td>\n",
       "    </tr>\n",
       "    <tr>\n",
       "      <th>...</th>\n",
       "      <td>...</td>\n",
       "      <td>...</td>\n",
       "    </tr>\n",
       "    <tr>\n",
       "      <th>1313</th>\n",
       "      <td>36397.57600</td>\n",
       "      <td>yes</td>\n",
       "    </tr>\n",
       "    <tr>\n",
       "      <th>1314</th>\n",
       "      <td>18765.87545</td>\n",
       "      <td>yes</td>\n",
       "    </tr>\n",
       "    <tr>\n",
       "      <th>1321</th>\n",
       "      <td>28101.33305</td>\n",
       "      <td>yes</td>\n",
       "    </tr>\n",
       "    <tr>\n",
       "      <th>1323</th>\n",
       "      <td>43896.37630</td>\n",
       "      <td>yes</td>\n",
       "    </tr>\n",
       "    <tr>\n",
       "      <th>1337</th>\n",
       "      <td>29141.36030</td>\n",
       "      <td>yes</td>\n",
       "    </tr>\n",
       "  </tbody>\n",
       "</table>\n",
       "<p>274 rows × 2 columns</p>\n",
       "</div>"
      ],
      "text/plain": [
       "          charges smoker\n",
       "0     16884.92400    yes\n",
       "11    27808.72510    yes\n",
       "14    39611.75770    yes\n",
       "19    36837.46700    yes\n",
       "23    37701.87680    yes\n",
       "...           ...    ...\n",
       "1313  36397.57600    yes\n",
       "1314  18765.87545    yes\n",
       "1321  28101.33305    yes\n",
       "1323  43896.37630    yes\n",
       "1337  29141.36030    yes\n",
       "\n",
       "[274 rows x 2 columns]"
      ]
     },
     "execution_count": 5,
     "metadata": {},
     "output_type": "execute_result"
    }
   ],
   "source": [
    "smoker_charges = df.loc[df['smoker']=='yes', ['charges', 'smoker']]\n",
    "smoker_charges"
   ]
  },
  {
   "cell_type": "code",
   "execution_count": 6,
   "id": "e43373f4",
   "metadata": {},
   "outputs": [
    {
     "data": {
      "text/html": [
       "<div>\n",
       "<style scoped>\n",
       "    .dataframe tbody tr th:only-of-type {\n",
       "        vertical-align: middle;\n",
       "    }\n",
       "\n",
       "    .dataframe tbody tr th {\n",
       "        vertical-align: top;\n",
       "    }\n",
       "\n",
       "    .dataframe thead th {\n",
       "        text-align: right;\n",
       "    }\n",
       "</style>\n",
       "<table border=\"1\" class=\"dataframe\">\n",
       "  <thead>\n",
       "    <tr style=\"text-align: right;\">\n",
       "      <th></th>\n",
       "      <th>charges</th>\n",
       "      <th>smoker</th>\n",
       "    </tr>\n",
       "  </thead>\n",
       "  <tbody>\n",
       "    <tr>\n",
       "      <th>1</th>\n",
       "      <td>1725.55230</td>\n",
       "      <td>no</td>\n",
       "    </tr>\n",
       "    <tr>\n",
       "      <th>2</th>\n",
       "      <td>4449.46200</td>\n",
       "      <td>no</td>\n",
       "    </tr>\n",
       "    <tr>\n",
       "      <th>3</th>\n",
       "      <td>21984.47061</td>\n",
       "      <td>no</td>\n",
       "    </tr>\n",
       "    <tr>\n",
       "      <th>4</th>\n",
       "      <td>3866.85520</td>\n",
       "      <td>no</td>\n",
       "    </tr>\n",
       "    <tr>\n",
       "      <th>5</th>\n",
       "      <td>3756.62160</td>\n",
       "      <td>no</td>\n",
       "    </tr>\n",
       "    <tr>\n",
       "      <th>...</th>\n",
       "      <td>...</td>\n",
       "      <td>...</td>\n",
       "    </tr>\n",
       "    <tr>\n",
       "      <th>1332</th>\n",
       "      <td>11411.68500</td>\n",
       "      <td>no</td>\n",
       "    </tr>\n",
       "    <tr>\n",
       "      <th>1333</th>\n",
       "      <td>10600.54830</td>\n",
       "      <td>no</td>\n",
       "    </tr>\n",
       "    <tr>\n",
       "      <th>1334</th>\n",
       "      <td>2205.98080</td>\n",
       "      <td>no</td>\n",
       "    </tr>\n",
       "    <tr>\n",
       "      <th>1335</th>\n",
       "      <td>1629.83350</td>\n",
       "      <td>no</td>\n",
       "    </tr>\n",
       "    <tr>\n",
       "      <th>1336</th>\n",
       "      <td>2007.94500</td>\n",
       "      <td>no</td>\n",
       "    </tr>\n",
       "  </tbody>\n",
       "</table>\n",
       "<p>1064 rows × 2 columns</p>\n",
       "</div>"
      ],
      "text/plain": [
       "          charges smoker\n",
       "1      1725.55230     no\n",
       "2      4449.46200     no\n",
       "3     21984.47061     no\n",
       "4      3866.85520     no\n",
       "5      3756.62160     no\n",
       "...           ...    ...\n",
       "1332  11411.68500     no\n",
       "1333  10600.54830     no\n",
       "1334   2205.98080     no\n",
       "1335   1629.83350     no\n",
       "1336   2007.94500     no\n",
       "\n",
       "[1064 rows x 2 columns]"
      ]
     },
     "execution_count": 6,
     "metadata": {},
     "output_type": "execute_result"
    }
   ],
   "source": [
    "nonsmoker_charges = df.loc[df['smoker']=='no', ['charges', 'smoker']]\n",
    "nonsmoker_charges"
   ]
  },
  {
   "cell_type": "code",
   "execution_count": 7,
   "id": "148eca62",
   "metadata": {},
   "outputs": [
    {
     "name": "stdout",
     "output_type": "stream",
     "text": [
      "274 smokers insurance charges.\n",
      "1064 non smokers insurance charges.\n"
     ]
    }
   ],
   "source": [
    "print(f\"{len(smoker_charges)} smokers insurance charges.\" )\n",
    "print(f\"{len(nonsmoker_charges)} non smokers insurance charges.\" )"
   ]
  },
  {
   "cell_type": "markdown",
   "id": "25c3bf63",
   "metadata": {},
   "source": [
    "#### Visualize Group Means"
   ]
  },
  {
   "cell_type": "code",
   "execution_count": 8,
   "id": "78cdd593",
   "metadata": {},
   "outputs": [
    {
     "data": {
      "text/html": [
       "<div>\n",
       "<style scoped>\n",
       "    .dataframe tbody tr th:only-of-type {\n",
       "        vertical-align: middle;\n",
       "    }\n",
       "\n",
       "    .dataframe tbody tr th {\n",
       "        vertical-align: top;\n",
       "    }\n",
       "\n",
       "    .dataframe thead th {\n",
       "        text-align: right;\n",
       "    }\n",
       "</style>\n",
       "<table border=\"1\" class=\"dataframe\">\n",
       "  <thead>\n",
       "    <tr style=\"text-align: right;\">\n",
       "      <th></th>\n",
       "      <th>charges</th>\n",
       "      <th>smoker</th>\n",
       "    </tr>\n",
       "  </thead>\n",
       "  <tbody>\n",
       "    <tr>\n",
       "      <th>0</th>\n",
       "      <td>16884.9240</td>\n",
       "      <td>yes</td>\n",
       "    </tr>\n",
       "    <tr>\n",
       "      <th>11</th>\n",
       "      <td>27808.7251</td>\n",
       "      <td>yes</td>\n",
       "    </tr>\n",
       "    <tr>\n",
       "      <th>14</th>\n",
       "      <td>39611.7577</td>\n",
       "      <td>yes</td>\n",
       "    </tr>\n",
       "    <tr>\n",
       "      <th>19</th>\n",
       "      <td>36837.4670</td>\n",
       "      <td>yes</td>\n",
       "    </tr>\n",
       "    <tr>\n",
       "      <th>23</th>\n",
       "      <td>37701.8768</td>\n",
       "      <td>yes</td>\n",
       "    </tr>\n",
       "    <tr>\n",
       "      <th>...</th>\n",
       "      <td>...</td>\n",
       "      <td>...</td>\n",
       "    </tr>\n",
       "    <tr>\n",
       "      <th>1332</th>\n",
       "      <td>11411.6850</td>\n",
       "      <td>no</td>\n",
       "    </tr>\n",
       "    <tr>\n",
       "      <th>1333</th>\n",
       "      <td>10600.5483</td>\n",
       "      <td>no</td>\n",
       "    </tr>\n",
       "    <tr>\n",
       "      <th>1334</th>\n",
       "      <td>2205.9808</td>\n",
       "      <td>no</td>\n",
       "    </tr>\n",
       "    <tr>\n",
       "      <th>1335</th>\n",
       "      <td>1629.8335</td>\n",
       "      <td>no</td>\n",
       "    </tr>\n",
       "    <tr>\n",
       "      <th>1336</th>\n",
       "      <td>2007.9450</td>\n",
       "      <td>no</td>\n",
       "    </tr>\n",
       "  </tbody>\n",
       "</table>\n",
       "<p>1338 rows × 2 columns</p>\n",
       "</div>"
      ],
      "text/plain": [
       "         charges smoker\n",
       "0     16884.9240    yes\n",
       "11    27808.7251    yes\n",
       "14    39611.7577    yes\n",
       "19    36837.4670    yes\n",
       "23    37701.8768    yes\n",
       "...          ...    ...\n",
       "1332  11411.6850     no\n",
       "1333  10600.5483     no\n",
       "1334   2205.9808     no\n",
       "1335   1629.8335     no\n",
       "1336   2007.9450     no\n",
       "\n",
       "[1338 rows x 2 columns]"
      ]
     },
     "execution_count": 8,
     "metadata": {},
     "output_type": "execute_result"
    }
   ],
   "source": [
    "plot_df = pd.concat([smoker_charges, nonsmoker_charges], axis=0)\n",
    "plot_df"
   ]
  },
  {
   "cell_type": "code",
   "execution_count": 9,
   "id": "36d248e6",
   "metadata": {},
   "outputs": [
    {
     "data": {
      "image/png": "[encoded data removed]",
      "text/plain": [
       "<Figure size 640x480 with 1 Axes>"
      ]
     },
     "metadata": {},
     "output_type": "display_data"
    }
   ],
   "source": [
    "## visualizing means. ci=68 makes easier to compare error bars (will discuss in class)\n",
    "ax = sns.barplot(data=plot_df, x='smoker', y='charges', errorbar=('ci', 68))"
   ]
  },
  {
   "cell_type": "code",
   "execution_count": 10,
   "id": "25b495e5",
   "metadata": {},
   "outputs": [
    {
     "data": {
      "text/plain": [
       "0     16884.9240\n",
       "11    27808.7251\n",
       "14    39611.7577\n",
       "19    36837.4670\n",
       "23    37701.8768\n",
       "Name: charges, dtype: float64"
      ]
     },
     "metadata": {},
     "output_type": "display_data"
    },
    {
     "data": {
      "text/plain": [
       "1     1725.55230\n",
       "2     4449.46200\n",
       "3    21984.47061\n",
       "4     3866.85520\n",
       "5     3756.62160\n",
       "Name: charges, dtype: float64"
      ]
     },
     "metadata": {},
     "output_type": "display_data"
    }
   ],
   "source": [
    "## now that we have visualized the groups, we can save a final male_group and female_group\n",
    "# that are a pandas Series. This will make the rest of our workflow simpler than if \n",
    "# we still had a dataframe\n",
    "\n",
    "smoker_group = smoker_charges['charges']\n",
    "nonsmoker_group = nonsmoker_charges['charges']\n",
    "display(smoker_group.head(), nonsmoker_group.head())"
   ]
  },
  {
   "cell_type": "markdown",
   "id": "55f75cc5",
   "metadata": {},
   "source": [
    "#### Testing Assumptions \n",
    "- According the the work flow, the 2-sample T-Test has the following assumptions:\n",
    "    - No significant outliers\n",
    "    - Normality\n",
    "    - Equal Variance"
   ]
  },
  {
   "cell_type": "markdown",
   "id": "0d5de189",
   "metadata": {},
   "source": [
    "**Checking for Outliers**\n",
    "- Check each group SEPARATELY!"
   ]
  },
  {
   "cell_type": "code",
   "execution_count": 11,
   "id": "b78ad83a",
   "metadata": {},
   "outputs": [
    {
     "name": "stdout",
     "output_type": "stream",
     "text": [
      "There are 0 outliers in the smoker group out of 274)\n"
     ]
    }
   ],
   "source": [
    "## Checking for abs vlaue of z-scores that are > 3\n",
    "is_outlier_smokers = np.abs(stats.zscore(smoker_group)) > 3\n",
    "print(f\"There are {is_outlier_smokers.sum()} outliers in the smoker group out of {len(smoker_group)})\")"
   ]
  },
  {
   "cell_type": "code",
   "execution_count": 12,
   "id": "41d52883",
   "metadata": {},
   "outputs": [
    {
     "name": "stdout",
     "output_type": "stream",
     "text": [
      "There are 24 outliers in the male group of out of 1064.\n"
     ]
    }
   ],
   "source": [
    "## Checking for abs vlaue of z-scores that are > 3\n",
    "is_outlier_nonsmokers = np.abs(stats.zscore(nonsmoker_group)) > 3\n",
    "print(f\"There are {is_outlier_nonsmokers.sum()} outliers in the male group of out of {len(nonsmoker_group)}.\")"
   ]
  },
  {
   "cell_type": "code",
   "execution_count": 13,
   "id": "da6edf09",
   "metadata": {},
   "outputs": [
    {
     "data": {
      "text/plain": [
       "1        1725.55230\n",
       "2        4449.46200\n",
       "3       21984.47061\n",
       "4        3866.85520\n",
       "5        3756.62160\n",
       "           ...     \n",
       "1332    11411.68500\n",
       "1333    10600.54830\n",
       "1334     2205.98080\n",
       "1335     1629.83350\n",
       "1336     2007.94500\n",
       "Name: charges, Length: 1040, dtype: float64"
      ]
     },
     "execution_count": 13,
     "metadata": {},
     "output_type": "execute_result"
    }
   ],
   "source": [
    "## removing outliers from nonsmoker_group\n",
    "nonsmoker_group = nonsmoker_group.loc[~is_outlier_nonsmokers]\n",
    "nonsmoker_group"
   ]
  },
  {
   "cell_type": "markdown",
   "id": "0a04635e",
   "metadata": {},
   "source": [
    "**Checking for Normality**\n",
    "- According to the workflow on the LP, since both groups have n > 15, we can safely ignore the assumption of normality."
   ]
  },
  {
   "cell_type": "markdown",
   "id": "23026463",
   "metadata": {},
   "source": [
    "**Checking for Equal Variance**"
   ]
  },
  {
   "cell_type": "code",
   "execution_count": 14,
   "id": "bbe93ff8",
   "metadata": {},
   "outputs": [
    {
     "name": "stdout",
     "output_type": "stream",
     "text": [
      "LeveneResult(statistic=520.7468821724297, pvalue=2.4247238784347824e-97)\n",
      "True\n"
     ]
    }
   ],
   "source": [
    "result = stats.levene(smoker_group, nonsmoker_group)\n",
    "print(result)\n",
    "print(result.pvalue<.05)"
   ]
  },
  {
   "cell_type": "markdown",
   "id": "52c9b216",
   "metadata": {},
   "source": [
    "- According to the documentation for stats.levene, the null hypothesis for the test is that both groups have equal variance. Since our p-value is less than .05 we reject that null hypothesis and conclude that our groups do NOT have equal variance.\n",
    "\n",
    "- Since we did NOT meet the assumption of equal variance, we will run our stats.ttest_ind using equal_var=False. This will run a Welch's T-Test, which is designed to account for unequal variance."
   ]
  },
  {
   "cell_type": "markdown",
   "id": "b955b96e",
   "metadata": {},
   "source": [
    "#### Statistical Test"
   ]
  },
  {
   "cell_type": "code",
   "execution_count": 15,
   "id": "17820852",
   "metadata": {},
   "outputs": [
    {
     "name": "stdout",
     "output_type": "stream",
     "text": [
      "Ttest_indResult(statistic=33.732305987092516, pvalue=2.575322662587431e-104)\n"
     ]
    },
    {
     "data": {
      "text/plain": [
       "True"
      ]
     },
     "execution_count": 15,
     "metadata": {},
     "output_type": "execute_result"
    }
   ],
   "source": [
    "result = stats.ttest_ind(smoker_group, nonsmoker_group, equal_var=False)\n",
    "print(result)\n",
    "result.pvalue < .05"
   ]
  },
  {
   "cell_type": "markdown",
   "id": "5150ce0c",
   "metadata": {},
   "source": [
    "#### Interpret your p-value and reject or fail to reject your null hypothesis"
   ]
  },
  {
   "cell_type": "markdown",
   "id": "4e18bbf8",
   "metadata": {},
   "source": [
    "- Our Welch's T-Test return a p-value < alpha (0.05) we reject the null hypothesis and support the alternative hypothesis that there is a significant difference in insurance charges for smokers vs non smokers.  \n",
    "\n",
    "- In order to know if the insurance charges are significantly MORE or LESS, we look at the actual means of our final groups."
   ]
  },
  {
   "cell_type": "code",
   "execution_count": 16,
   "id": "6aa99100",
   "metadata": {},
   "outputs": [
    {
     "name": "stdout",
     "output_type": "stream",
     "text": [
      "The average insurance charges for smoker group was 32050.23\n",
      "The average insurance charges for non smoker group was 7939.86\n"
     ]
    }
   ],
   "source": [
    "print(f\"The average insurance charges for smoker group was {smoker_group.mean():.2f}\")\n",
    "print(f\"The average insurance charges for non smoker group was {nonsmoker_group.mean():.2f}\")"
   ]
  },
  {
   "cell_type": "markdown",
   "id": "3cd69bbb",
   "metadata": {},
   "source": [
    "- The average insurance charges for smoker group was significantly higher than non smokers.  "
   ]
  },
  {
   "cell_type": "markdown",
   "id": "a8bed92e",
   "metadata": {},
   "source": [
    "### 2. Are men more likely to smoke than women?"
   ]
  },
  {
   "cell_type": "markdown",
   "id": "e06fbf4e",
   "metadata": {},
   "source": [
    "Define Null and Alternative Hypotheses\n",
    "\n",
    "**Null Hypothesis:** There is no significant difference in smoking between men and women. There is no association/correlation between the variables. \n",
    "\n",
    "**Alternative Hypothesis:** There is a significant difference in smoking between men and women. (Men are more likely to smoke than women).\n",
    "\n",
    "- Select Proper Hypothesis Test\n",
    "    - We are comparing smoking (categorical) between 2 different groups(men & women)\n",
    "        - The appropriate test to perform would be:\n",
    "            - Chi-Square:\n",
    "                - There are two categorical variables (ordinal or nominal)\n",
    "                - The outcomes are independent."
   ]
  },
  {
   "cell_type": "markdown",
   "id": "b18e54bc",
   "metadata": {},
   "source": [
    "#### Getting the group data"
   ]
  },
  {
   "cell_type": "code",
   "execution_count": 17,
   "id": "7d841d7e",
   "metadata": {},
   "outputs": [
    {
     "data": {
      "text/plain": [
       "male      676\n",
       "female    662\n",
       "Name: sex, dtype: int64"
      ]
     },
     "execution_count": 17,
     "metadata": {},
     "output_type": "execute_result"
    }
   ],
   "source": [
    "df['sex'].value_counts()"
   ]
  },
  {
   "cell_type": "markdown",
   "id": "d33724a5",
   "metadata": {},
   "source": [
    "#### Getting the Contingency Table "
   ]
  },
  {
   "cell_type": "code",
   "execution_count": 18,
   "id": "825d535d",
   "metadata": {},
   "outputs": [
    {
     "data": {
      "text/html": [
       "<div>\n",
       "<style scoped>\n",
       "    .dataframe tbody tr th:only-of-type {\n",
       "        vertical-align: middle;\n",
       "    }\n",
       "\n",
       "    .dataframe tbody tr th {\n",
       "        vertical-align: top;\n",
       "    }\n",
       "\n",
       "    .dataframe thead th {\n",
       "        text-align: right;\n",
       "    }\n",
       "</style>\n",
       "<table border=\"1\" class=\"dataframe\">\n",
       "  <thead>\n",
       "    <tr style=\"text-align: right;\">\n",
       "      <th>smoker</th>\n",
       "      <th>no</th>\n",
       "      <th>yes</th>\n",
       "    </tr>\n",
       "    <tr>\n",
       "      <th>sex</th>\n",
       "      <th></th>\n",
       "      <th></th>\n",
       "    </tr>\n",
       "  </thead>\n",
       "  <tbody>\n",
       "    <tr>\n",
       "      <th>female</th>\n",
       "      <td>547</td>\n",
       "      <td>115</td>\n",
       "    </tr>\n",
       "    <tr>\n",
       "      <th>male</th>\n",
       "      <td>517</td>\n",
       "      <td>159</td>\n",
       "    </tr>\n",
       "  </tbody>\n",
       "</table>\n",
       "</div>"
      ],
      "text/plain": [
       "smoker   no  yes\n",
       "sex             \n",
       "female  547  115\n",
       "male    517  159"
      ]
     },
     "execution_count": 18,
     "metadata": {},
     "output_type": "execute_result"
    }
   ],
   "source": [
    "# calculate the contingency table with pd.cross-tab\n",
    "table = pd.crosstab(df['sex'], df['smoker'])\n",
    "table"
   ]
  },
  {
   "cell_type": "markdown",
   "id": "a7f48b78",
   "metadata": {},
   "source": [
    "#### Statistical Test"
   ]
  },
  {
   "cell_type": "code",
   "execution_count": 19,
   "id": "e1f52bba",
   "metadata": {},
   "outputs": [],
   "source": [
    "result = stats.chi2_contingency(table)\n",
    "chi2, p, deg_free, expected_vals = result #this labels the results"
   ]
  },
  {
   "cell_type": "markdown",
   "id": "d94ddd3b",
   "metadata": {},
   "source": [
    "#### Interpret p-value and reject or fail to reject your null hypothesis"
   ]
  },
  {
   "cell_type": "code",
   "execution_count": 20,
   "id": "8633c588",
   "metadata": {},
   "outputs": [
    {
     "name": "stdout",
     "output_type": "stream",
     "text": [
      "0.006548143503580696\n"
     ]
    },
    {
     "data": {
      "text/plain": [
       "True"
      ]
     },
     "execution_count": 20,
     "metadata": {},
     "output_type": "execute_result"
    }
   ],
   "source": [
    "# Display p-value and check against alpha\n",
    "print(p)\n",
    "p<.05"
   ]
  },
  {
   "cell_type": "markdown",
   "id": "b028296d",
   "metadata": {},
   "source": [
    "- The p-value is less than 0.05, so we have a significant result.\n",
    "\n",
    "- Since the p-value < .05, we reject the null hypothesis that there is no relationship between sex and likelihood of being a smoker.\n",
    "\n",
    "- This means that we accept the alternate hypothesis and conclude that men are more likely to smoke than women."
   ]
  },
  {
   "cell_type": "markdown",
   "id": "4165e309",
   "metadata": {},
   "source": [
    "#### Visualization\n",
    "    "
   ]
  },
  {
   "cell_type": "code",
   "execution_count": 21,
   "id": "3f485c29",
   "metadata": {},
   "outputs": [
    {
     "data": {
      "image/png": "[encoded data removed]",
      "text/plain": [
       "<Figure size 640x480 with 1 Axes>"
      ]
     },
     "metadata": {},
     "output_type": "display_data"
    }
   ],
   "source": [
    "ax = sns.countplot(data=df, x='smoker', hue='sex')\n",
    "\n",
    "# Add title to the plot\n",
    "ax.set_title('Smoker by sex');"
   ]
  },
  {
   "cell_type": "markdown",
   "id": "8e72eb29",
   "metadata": {},
   "source": [
    "### 3. Do different regions have different charges, on average?"
   ]
  },
  {
   "cell_type": "markdown",
   "id": "0f6db82a",
   "metadata": {},
   "source": [
    "#### **Define Null and Alternative Hypotheses**\n",
    "\n",
    "**Null Hypothesis:** There is no significant difference in insurance charges between the regions.  All group's means are the same.\n",
    "\n",
    "**Alternative Hypothesis:** There is a significantly difference in insurance charges between the regions.  There is a difference in the group's means"
   ]
  },
  {
   "cell_type": "markdown",
   "id": "1c2f09d9",
   "metadata": {},
   "source": [
    "#### **Select Proper Hypothesis Test**\n",
    "- We are comparing charges (numerical) between four different regions/groups \n",
    "    - The appropriate test to perform would be:\n",
    "        - One Way ANOVA have the following Assumptions:\n",
    "            - No significant outliers\n",
    "            - Normality\n",
    "            - Equal Variance"
   ]
  },
  {
   "cell_type": "markdown",
   "id": "45c00d07",
   "metadata": {},
   "source": [
    "#### **Separating our Groups**"
   ]
  },
  {
   "cell_type": "code",
   "execution_count": 22,
   "id": "5e2623c8",
   "metadata": {},
   "outputs": [
    {
     "data": {
      "text/plain": [
       "dict_keys(['southwest', 'southeast', 'northwest', 'northeast'])"
      ]
     },
     "execution_count": 22,
     "metadata": {},
     "output_type": "execute_result"
    }
   ],
   "source": [
    "## Create groups dictionary. \n",
    "groups = {}\n",
    "## Loop through all unique categories\n",
    "for i in df['region'].unique():\n",
    "    ## Get series for group and rename\n",
    "    data = df.loc[df['region']==i,'charges'].copy()\n",
    "    \n",
    "    # save into the dictionary\n",
    "    groups[i] = data\n",
    "groups.keys()"
   ]
  },
  {
   "cell_type": "markdown",
   "id": "bec16c4d",
   "metadata": {},
   "source": [
    "#### Testing Assumptions"
   ]
  },
  {
   "cell_type": "markdown",
   "id": "bf9f8b41",
   "metadata": {},
   "source": [
    "**Assumption of Normality**"
   ]
  },
  {
   "cell_type": "code",
   "execution_count": 23,
   "id": "e9f4de34",
   "metadata": {},
   "outputs": [
    {
     "data": {
      "text/html": [
       "<div>\n",
       "<style scoped>\n",
       "    .dataframe tbody tr th:only-of-type {\n",
       "        vertical-align: middle;\n",
       "    }\n",
       "\n",
       "    .dataframe tbody tr th {\n",
       "        vertical-align: top;\n",
       "    }\n",
       "\n",
       "    .dataframe thead th {\n",
       "        text-align: right;\n",
       "    }\n",
       "</style>\n",
       "<table border=\"1\" class=\"dataframe\">\n",
       "  <thead>\n",
       "    <tr style=\"text-align: right;\">\n",
       "      <th></th>\n",
       "      <th>n</th>\n",
       "      <th>p</th>\n",
       "      <th>test stat</th>\n",
       "    </tr>\n",
       "  </thead>\n",
       "  <tbody>\n",
       "    <tr>\n",
       "      <th>southwest</th>\n",
       "      <td>325.0</td>\n",
       "      <td>6.125298e-23</td>\n",
       "      <td>102.294059</td>\n",
       "    </tr>\n",
       "    <tr>\n",
       "      <th>southeast</th>\n",
       "      <td>364.0</td>\n",
       "      <td>4.953297e-15</td>\n",
       "      <td>65.877446</td>\n",
       "    </tr>\n",
       "    <tr>\n",
       "      <th>northwest</th>\n",
       "      <td>325.0</td>\n",
       "      <td>5.184209e-24</td>\n",
       "      <td>107.232850</td>\n",
       "    </tr>\n",
       "    <tr>\n",
       "      <th>northeast</th>\n",
       "      <td>324.0</td>\n",
       "      <td>1.455431e-19</td>\n",
       "      <td>86.747629</td>\n",
       "    </tr>\n",
       "  </tbody>\n",
       "</table>\n",
       "</div>"
      ],
      "text/plain": [
       "               n             p   test stat\n",
       "southwest  325.0  6.125298e-23  102.294059\n",
       "southeast  364.0  4.953297e-15   65.877446\n",
       "northwest  325.0  5.184209e-24  107.232850\n",
       "northeast  324.0  1.455431e-19   86.747629"
      ]
     },
     "execution_count": 23,
     "metadata": {},
     "output_type": "execute_result"
    }
   ],
   "source": [
    "## Running normal test on each group and confirming there are >20 in each group\n",
    "norm_results = {}\n",
    "for i, data in groups.items():\n",
    "    stat, p = stats.normaltest(data)\n",
    "    ## save the p val, test statistic, and the size of the group\n",
    "    norm_results[i] = {'n': len(data),\n",
    "                             'p':p,\n",
    "                             'test stat':stat,}\n",
    "## convert to a dataframe\n",
    "norm_results_df = pd.DataFrame(norm_results).T\n",
    "norm_results_df"
   ]
  },
  {
   "cell_type": "code",
   "execution_count": 24,
   "id": "c064de5a",
   "metadata": {},
   "outputs": [
    {
     "data": {
      "text/html": [
       "<div>\n",
       "<style scoped>\n",
       "    .dataframe tbody tr th:only-of-type {\n",
       "        vertical-align: middle;\n",
       "    }\n",
       "\n",
       "    .dataframe tbody tr th {\n",
       "        vertical-align: top;\n",
       "    }\n",
       "\n",
       "    .dataframe thead th {\n",
       "        text-align: right;\n",
       "    }\n",
       "</style>\n",
       "<table border=\"1\" class=\"dataframe\">\n",
       "  <thead>\n",
       "    <tr style=\"text-align: right;\">\n",
       "      <th></th>\n",
       "      <th>n</th>\n",
       "      <th>p</th>\n",
       "      <th>test stat</th>\n",
       "      <th>sig</th>\n",
       "    </tr>\n",
       "  </thead>\n",
       "  <tbody>\n",
       "    <tr>\n",
       "      <th>southwest</th>\n",
       "      <td>325.0</td>\n",
       "      <td>6.125298e-23</td>\n",
       "      <td>102.294059</td>\n",
       "      <td>True</td>\n",
       "    </tr>\n",
       "    <tr>\n",
       "      <th>southeast</th>\n",
       "      <td>364.0</td>\n",
       "      <td>4.953297e-15</td>\n",
       "      <td>65.877446</td>\n",
       "      <td>True</td>\n",
       "    </tr>\n",
       "    <tr>\n",
       "      <th>northwest</th>\n",
       "      <td>325.0</td>\n",
       "      <td>5.184209e-24</td>\n",
       "      <td>107.232850</td>\n",
       "      <td>True</td>\n",
       "    </tr>\n",
       "    <tr>\n",
       "      <th>northeast</th>\n",
       "      <td>324.0</td>\n",
       "      <td>1.455431e-19</td>\n",
       "      <td>86.747629</td>\n",
       "      <td>True</td>\n",
       "    </tr>\n",
       "  </tbody>\n",
       "</table>\n",
       "</div>"
      ],
      "text/plain": [
       "               n             p   test stat   sig\n",
       "southwest  325.0  6.125298e-23  102.294059  True\n",
       "southeast  364.0  4.953297e-15   65.877446  True\n",
       "northwest  325.0  5.184209e-24  107.232850  True\n",
       "northeast  324.0  1.455431e-19   86.747629  True"
      ]
     },
     "execution_count": 24,
     "metadata": {},
     "output_type": "execute_result"
    }
   ],
   "source": [
    "### checking sig with pandas \n",
    "norm_results_df['sig'] = norm_results_df['p'] < .05 \n",
    "norm_results_df"
   ]
  },
  {
   "cell_type": "markdown",
   "id": "a09d0985",
   "metadata": {},
   "source": [
    "- These regions are all significantly different from each other. "
   ]
  },
  {
   "cell_type": "markdown",
   "id": "e35ba72a",
   "metadata": {},
   "source": [
    "**Testing Assumption of Equal Variance**"
   ]
  },
  {
   "cell_type": "code",
   "execution_count": 25,
   "id": "7287a35e",
   "metadata": {},
   "outputs": [
    {
     "name": "stdout",
     "output_type": "stream",
     "text": [
      "LeveneResult(statistic=5.559966758410606, pvalue=0.0008610590250786703)\n",
      "True\n"
     ]
    }
   ],
   "source": [
    "# with the * operator \n",
    "result = stats.levene(*groups.values())\n",
    "print(result)\n",
    "print(result.pvalue<.05)"
   ]
  },
  {
   "cell_type": "markdown",
   "id": "3396520f",
   "metadata": {},
   "source": [
    "- According to the documentation for stats.levene, the null hypothesis for the test is that both groups have equal variance. Since our p-value is less than .05 we reject that null hypothesis and conclude that our groups do NOT have equal variance.\n"
   ]
  },
  {
   "cell_type": "markdown",
   "id": "36ef28ce",
   "metadata": {},
   "source": [
    "#### Statistical Test"
   ]
  },
  {
   "cell_type": "markdown",
   "id": "c09258bd",
   "metadata": {},
   "source": [
    "- **Since we do not meet the Equal Variance Assumption we need to do the Non-Parametric Test Equivalent.**"
   ]
  },
  {
   "cell_type": "code",
   "execution_count": 26,
   "id": "6a53bdb9",
   "metadata": {},
   "outputs": [
    {
     "name": "stdout",
     "output_type": "stream",
     "text": [
      "KruskalResult(statistic=4.734181215658743, pvalue=0.19232908072121002)\n",
      "False\n"
     ]
    }
   ],
   "source": [
    "# perform the correct hypothesis test\n",
    "# note again the use of the * operator for convenience\n",
    "result = stats.kruskal( *groups.values())\n",
    "print(result)\n",
    "print(result.pvalue<.05)"
   ]
  },
  {
   "cell_type": "markdown",
   "id": "c8ddff7e",
   "metadata": {},
   "source": [
    "#### Interpret p-value and reject or fail to reject your null hypothesis"
   ]
  },
  {
   "cell_type": "markdown",
   "id": "814c752a",
   "metadata": {},
   "source": [
    "- We fail to reject the null hypothesis.  The regions do not have significant difference in insurance charges. "
   ]
  },
  {
   "cell_type": "markdown",
   "id": "efafa360",
   "metadata": {},
   "source": [
    "#### Visualize Group Means"
   ]
  },
  {
   "cell_type": "code",
   "execution_count": 27,
   "id": "5de93ead",
   "metadata": {},
   "outputs": [
    {
     "data": {
      "image/png": "[encoded data removed]",
      "text/plain": [
       "<Figure size 640x480 with 1 Axes>"
      ]
     },
     "metadata": {},
     "output_type": "display_data"
    }
   ],
   "source": [
    "## visualizing means. ci=68 makes easier to compare error bars \n",
    "ax = sns.barplot(data=df, x='region', y='charges', errorbar=('ci', 68))"
   ]
  }
 ],
 "metadata": {
  "kernelspec": {
   "display_name": "Python (dojo-env)",
   "language": "python",
   "name": "dojo-env"
  },
  "language_info": {
   "codemirror_mode": {
    "name": "ipython",
    "version": 3
   },
   "file_extension": ".py",
   "mimetype": "text/x-python",
   "name": "python",
   "nbconvert_exporter": "python",
   "pygments_lexer": "ipython3",
   "version": "3.9.15"
  },
  "toc": {
   "base_numbering": 1,
   "nav_menu": {},
   "number_sections": false,
   "sideBar": true,
   "skip_h1_title": false,
   "title_cell": "Table of Contents",
   "title_sidebar": "Contents",
   "toc_cell": false,
   "toc_position": {
    "height": "calc(100% - 180px)",
    "left": "10px",
    "top": "150px",
    "width": "238.338px"
   },
   "toc_section_display": true,
   "toc_window_display": true
  }
 },
 "nbformat": 4,
 "nbformat_minor": 5
}
